{
 "cells": [
  {
   "attachments": {},
   "cell_type": "markdown",
   "metadata": {},
   "source": [
    "# MLP for seizure prediction"
   ]
  },
  {
   "cell_type": "code",
   "execution_count": 34,
   "metadata": {},
   "outputs": [],
   "source": [
    "\"\"\"Models definition.\"\"\"\n",
    "import pytorch_lightning as pl\n",
    "from torchmetrics import Accuracy, F1Score, Precision, Recall\n",
    "from torch.utils.data import DataLoader\n",
    "import torch.nn as nn\n",
    "import torch\n",
    "from torch import Tensor\n",
    "from typing import Any\n",
    "\n",
    "\n",
    "class MLP(pl.LightningModule):\n",
    "    \"\"\"Simple MLP model.\"\"\"\n",
    "\n",
    "    def __init__(self, train_data: Any, val_data: Any, test_data: Any, n_workers: int = 8) -> None:\n",
    "        \"\"\"\n",
    "        Initialize the MLP.\n",
    "\n",
    "        :return: None\n",
    "        \"\"\"\n",
    "        super().__init__()\n",
    "\n",
    "        self.train_data = train_data\n",
    "        self.val_data = val_data\n",
    "        self.test_data = test_data\n",
    "        self.n_workers = n_workers\n",
    "\n",
    "        self.network = nn.Sequential(\n",
    "            nn.Flatten(),\n",
    "            nn.Linear(22 * 256 * 60, 64),\n",
    "            nn.ReLU(),\n",
    "            nn.Linear(64, 32),\n",
    "            nn.ReLU(),\n",
    "            nn.Linear(32, 4),\n",
    "        )\n",
    "\n",
    "        self.train_accuracy = Accuracy(compute_on_step=False, num_classes=4, task=\"multiclass\")\n",
    "        self.val_accuracy = Accuracy(compute_on_step=False, num_classes=4, task=\"multiclass\")\n",
    "        self.test_accuracy = Accuracy(compute_on_step=False, num_classes=4, task=\"multiclass\")\n",
    "\n",
    "        self.val_f1 = F1Score(num_classes=4, average='macro', task=\"multiclass\")\n",
    "        self.test_f1 = F1Score(num_classes=4, average='macro', task=\"multiclass\")\n",
    "\n",
    "        self.val_precision = Precision(num_classes=4, average='macro', task=\"multiclass\")\n",
    "        self.test_precision = Precision(num_classes=4, average='macro', task=\"multiclass\")\n",
    "\n",
    "        self.val_recall = Recall(num_classes=4, average='macro', task=\"multiclass\")\n",
    "        self.test_recall = Recall(num_classes=4, average='macro', task=\"multiclass\")\n",
    "        \n",
    "        # log hyperparameters\n",
    "        self.save_hyperparameters()\n",
    "\n",
    "    def forward(self, tensor: Tensor) -> Tensor:\n",
    "        \"\"\"\n",
    "        Forward pass through the network.\n",
    "\n",
    "        :param tensor: Input tensor\n",
    "        :return: Output tensor\n",
    "        \"\"\"\n",
    "        # convert tensor into torch.float32\n",
    "        return self.network(tensor)\n",
    "\n",
    "    def training_step(self, batch: Any, batch_idx: int) -> Tensor:\n",
    "        \"\"\"\n",
    "        Perform one step of training.\n",
    "\n",
    "        :param batch: Batch data\n",
    "        :param batch_idx: Index of the batch\n",
    "        :return: Loss tensor\n",
    "        \"\"\"\n",
    "        x, y = batch\n",
    "        y_hat = self.network(x)\n",
    "        loss = nn.functional.cross_entropy(y_hat, y)\n",
    "        preds = torch.argmax(y_hat, dim=1)\n",
    "\n",
    "        # update metrics\n",
    "        self.train_accuracy(preds, y)\n",
    "        # self.train_bal_accuracy(preds, y)\n",
    "        # self.train_precision(preds, y)\n",
    "        # self.train_recall(preds, y)\n",
    "        \n",
    "        # log metrics\n",
    "        # self.log('train_loss', loss, on_step=True, on_epoch=True, logger=True)\n",
    "        self.log('train_acc', self.train_accuracy, on_step=True, on_epoch=True, logger=True)\n",
    "        # self.log('train_recall', self.train_recall, on_step=True, on_epoch=True, logger=True)\n",
    "\n",
    "        return loss\n",
    "\n",
    "    def validation_step(self, batch: Any, batch_idx: int) -> None:\n",
    "        \"\"\"\n",
    "        Perform one step of validation.\n",
    "\n",
    "        :param batch: Batch data\n",
    "        :param batch_idx: Index of the batch\n",
    "        :return: None\n",
    "        \"\"\"\n",
    "        x, y = batch\n",
    "        y_hat = self.network(x)\n",
    "        loss = nn.functional.cross_entropy(y_hat, y)\n",
    "\n",
    "        preds = torch.argmax(y_hat, dim=1)\n",
    "        \n",
    "        # update metrics\n",
    "        self.val_accuracy(preds, y)\n",
    "        # self.val_bal_accuracy(preds, y)\n",
    "        self.val_f1(preds, y)\n",
    "        self.val_precision(preds, y)\n",
    "        self.val_recall(preds, y)\n",
    "        \n",
    "        # log metrics\n",
    "        self.log('val_loss', loss, sync_dist=True)\n",
    "        self.log('val_acc', self.val_accuracy, on_step=True, on_epoch=True, prog_bar=True)\n",
    "        self.log('val_f1', self.val_f1, on_step=True, on_epoch=True, prog_bar=True)\n",
    "        self.log('val_precision', self.val_precision, on_step=True, on_epoch=True, prog_bar=True)\n",
    "        self.log('val_recall', self.val_recall, on_step=True, on_epoch=True, prog_bar=True)\n",
    "\n",
    "\n",
    "    def test_step(self, batch: Any, batch_idx: int) -> None:\n",
    "        \"\"\"\n",
    "        Perform one step of testing.\n",
    "\n",
    "        :param batch: Batch data\n",
    "        :param batch_idx: Index of the batch\n",
    "        :return: None\n",
    "        \"\"\"\n",
    "        x, y = batch\n",
    "        y_hat = self.network(x)\n",
    "        loss = nn.functional.cross_entropy(y_hat, y)\n",
    "\n",
    "        preds = torch.argmax(y_hat, dim=1)\n",
    "\n",
    "        # update metrics\n",
    "        self.test_accuracy(preds, y)\n",
    "        # self.test_bal_accuracy(preds, y)\n",
    "        self.test_f1(preds, y)\n",
    "        self.test_precision(preds, y)\n",
    "        self.test_recall(preds, y)\n",
    "\n",
    "        # log metrics\n",
    "        self.log('test_loss', loss, sync_dist=True)\n",
    "        self.log('test_acc', self.test_accuracy, on_step=True, on_epoch=True, logger=True)\n",
    "        self.log('test_f1', self.test_f1, on_step=True, on_epoch=True, logger=True)\n",
    "        self.log('test_precision', self.test_precision, on_step=True, on_epoch=True, logger=True)\n",
    "        self.log('test_recall', self.test_recall, on_step=True, on_epoch=True, logger=True)\n",
    "\n",
    "\n",
    "\n",
    "    def configure_optimizers(self) -> torch.optim.Optimizer:\n",
    "        \"\"\"\n",
    "        Configure the optimizer for training.\n",
    "\n",
    "        :return: Optimizer\n",
    "        \"\"\"\n",
    "        return torch.optim.Adam(self.parameters(), lr=0.001)\n",
    "\n",
    "    def train_dataloader(self):\n",
    "        return DataLoader(self.train_data, batch_size=64, shuffle=True, num_workers=self.n_workers)\n",
    "\n",
    "    def val_dataloader(self):\n",
    "        return DataLoader(self.val_data, batch_size=64, num_workers=self.n_workers)\n",
    "\n",
    "    def test_dataloader(self):\n",
    "        return DataLoader(self.test_data, batch_size=64, num_workers=self.n_workers)\n"
   ]
  },
  {
   "attachments": {},
   "cell_type": "markdown",
   "metadata": {},
   "source": [
    "## Data Loader"
   ]
  },
  {
   "cell_type": "code",
   "execution_count": 44,
   "metadata": {},
   "outputs": [],
   "source": [
    "import os\n",
    "import pandas as pd\n",
    "from torch.utils.data import Dataset\n",
    "import torch\n",
    "\n",
    "\n",
    "\n",
    "class CustomDataset(Dataset):\n",
    "    \"\"\"Custom dataset class.\"\"\"\n",
    "\n",
    "    def __init__(self, folder_path: str):\n",
    "        \"\"\"\n",
    "        Initialize the dataset.\n",
    "\n",
    "        :param folder_path: Path to the folder with the data files\n",
    "        \"\"\"\n",
    "        self.folder_path = folder_path\n",
    "        self.label_mapping = {\n",
    "            \"preictal\": 0,\n",
    "            \"ictal\": 1,\n",
    "            \"prepreictal\": 2,\n",
    "            \"interictal\": 3,\n",
    "        }\n",
    "        self.file_paths = []\n",
    "        self.labels = []\n",
    "        self._load_file_paths()\n",
    "\n",
    "    def __len__(self) -> int:\n",
    "        \"\"\"\n",
    "        Get the total number of samples in the dataset.\n",
    "\n",
    "        :return: Total number of samples\n",
    "        \"\"\"\n",
    "        return len(self.file_paths)\n",
    "\n",
    "    def __getitem__(self, idx: int) -> tuple:\n",
    "        \"\"\"\n",
    "        Get a sample by index.\n",
    "\n",
    "        :param idx: Index\n",
    "        :return: Sample and label\n",
    "        \"\"\"\n",
    "        file_path = self.file_paths[idx]\n",
    "        data = pd.read_csv(file_path)\n",
    "        # convert to float32\n",
    "        data = data.astype(\"float32\")\n",
    "        # transpose the data\n",
    "        data = data.transpose()\n",
    "        return data.values, self.labels[idx]\n",
    "\n",
    "    def _load_file_paths(self) -> None:\n",
    "        \"\"\"\n",
    "        Load all the file paths and their labels.\n",
    "\n",
    "        :return: None\n",
    "        \"\"\"\n",
    "        for filename in os.listdir(self.folder_path):\n",
    "            if filename.endswith(\".csv\"):\n",
    "                file_path = os.path.join(self.folder_path, filename)\n",
    "                label = filename.split(\"_\")[2]\n",
    "                if label in self.label_mapping:\n",
    "                    self.file_paths.append(file_path)\n",
    "                    self.labels.append(self.label_mapping[label])\n",
    "                else:\n",
    "                    print(f\"Ignoring file {file_path} with unexpected label {label}\")\n"
   ]
  },
  {
   "attachments": {},
   "cell_type": "markdown",
   "metadata": {},
   "source": [
    "## Train"
   ]
  },
  {
   "cell_type": "code",
   "execution_count": 30,
   "metadata": {},
   "outputs": [
    {
     "name": "stdout",
     "output_type": "stream",
     "text": [
      "Wed Jun 21 11:57:58 2023       \n",
      "+-----------------------------------------------------------------------------+\n",
      "| NVIDIA-SMI 510.47.03    Driver Version: 510.47.03    CUDA Version: 11.6     |\n",
      "|-------------------------------+----------------------+----------------------+\n",
      "| GPU  Name        Persistence-M| Bus-Id        Disp.A | Volatile Uncorr. ECC |\n",
      "| Fan  Temp  Perf  Pwr:Usage/Cap|         Memory-Usage | GPU-Util  Compute M. |\n",
      "|                               |                      |               MIG M. |\n",
      "|===============================+======================+======================|\n",
      "|   0  NVIDIA A30          On   | 00000000:03:00.0 Off |                    0 |\n",
      "| N/A   36C    P0    99W / 165W |    263MiB / 24576MiB |     72%      Default |\n",
      "|                               |                      |             Disabled |\n",
      "+-------------------------------+----------------------+----------------------+\n",
      "|   1  NVIDIA A30          On   | 00000000:85:00.0 Off |                    0 |\n",
      "| N/A   18C    P0    28W / 165W |   1455MiB / 24576MiB |      0%      Default |\n",
      "|                               |                      |             Disabled |\n",
      "+-------------------------------+----------------------+----------------------+\n",
      "                                                                               \n",
      "+-----------------------------------------------------------------------------+\n",
      "| Processes:                                                                  |\n",
      "|  GPU   GI   CI        PID   Type   Process name                  GPU Memory |\n",
      "|        ID   ID                                                   Usage      |\n",
      "|=============================================================================|\n",
      "|    0   N/A  N/A    458838      C                                     261MiB |\n",
      "|    1   N/A  N/A    467467      C   ...envs/torch-gpu/bin/python     1453MiB |\n",
      "+-----------------------------------------------------------------------------+\n"
     ]
    }
   ],
   "source": [
    "!module load nvhpc\n",
    "!nvidia-smi"
   ]
  },
  {
   "cell_type": "code",
   "execution_count": 31,
   "metadata": {},
   "outputs": [
    {
     "name": "stdout",
     "output_type": "stream",
     "text": [
      "Número de CPUs disponibles: 20\n"
     ]
    }
   ],
   "source": [
    "import os\n",
    "num_cpus = os.cpu_count()\n",
    "print(\"Número de CPUs disponibles:\", num_cpus)"
   ]
  },
  {
   "cell_type": "code",
   "execution_count": 37,
   "metadata": {},
   "outputs": [
    {
     "name": "stderr",
     "output_type": "stream",
     "text": [
      "GPU available: True (cuda), used: True\n",
      "TPU available: False, using: 0 TPU cores\n",
      "IPU available: False, using: 0 IPUs\n",
      "HPU available: False, using: 0 HPUs\n",
      "LOCAL_RANK: 0 - CUDA_VISIBLE_DEVICES: [1]\n",
      "\n",
      "  | Name           | Type                | Params\n",
      "-------------------------------------------------------\n",
      "0 | network        | Sequential          | 21.6 M\n",
      "1 | train_accuracy | MulticlassAccuracy  | 0     \n",
      "2 | val_accuracy   | MulticlassAccuracy  | 0     \n",
      "3 | test_accuracy  | MulticlassAccuracy  | 0     \n",
      "4 | val_f1         | MulticlassF1Score   | 0     \n",
      "5 | test_f1        | MulticlassF1Score   | 0     \n",
      "6 | val_precision  | MulticlassPrecision | 0     \n",
      "7 | test_precision | MulticlassPrecision | 0     \n",
      "8 | val_recall     | MulticlassRecall    | 0     \n",
      "9 | test_recall    | MulticlassRecall    | 0     \n",
      "-------------------------------------------------------\n",
      "21.6 M    Trainable params\n",
      "0         Non-trainable params\n",
      "21.6 M    Total params\n",
      "86.517    Total estimated model params size (MB)\n"
     ]
    },
    {
     "data": {
      "application/vnd.jupyter.widget-view+json": {
       "model_id": "38863128adfc47c69d000fc2f353f491",
       "version_major": 2,
       "version_minor": 0
      },
      "text/plain": [
       "Sanity Checking: 0it [00:00, ?it/s]"
      ]
     },
     "metadata": {},
     "output_type": "display_data"
    },
    {
     "data": {
      "application/vnd.jupyter.widget-view+json": {
       "model_id": "81dc42d53f064101b477a26a9056fd54",
       "version_major": 2,
       "version_minor": 0
      },
      "text/plain": [
       "Training: 0it [00:00, ?it/s]"
      ]
     },
     "metadata": {},
     "output_type": "display_data"
    },
    {
     "data": {
      "application/vnd.jupyter.widget-view+json": {
       "model_id": "5f74c92ff17441498305f19031f66ebe",
       "version_major": 2,
       "version_minor": 0
      },
      "text/plain": [
       "Validation: 0it [00:00, ?it/s]"
      ]
     },
     "metadata": {},
     "output_type": "display_data"
    },
    {
     "data": {
      "application/vnd.jupyter.widget-view+json": {
       "model_id": "ffe390232a27429c844b4248e0106083",
       "version_major": 2,
       "version_minor": 0
      },
      "text/plain": [
       "Validation: 0it [00:00, ?it/s]"
      ]
     },
     "metadata": {},
     "output_type": "display_data"
    },
    {
     "data": {
      "application/vnd.jupyter.widget-view+json": {
       "model_id": "e2757d66f62342b4a8d752774a2453bb",
       "version_major": 2,
       "version_minor": 0
      },
      "text/plain": [
       "Validation: 0it [00:00, ?it/s]"
      ]
     },
     "metadata": {},
     "output_type": "display_data"
    },
    {
     "data": {
      "application/vnd.jupyter.widget-view+json": {
       "model_id": "5e86fe721c3047b1a01453b124e3545a",
       "version_major": 2,
       "version_minor": 0
      },
      "text/plain": [
       "Validation: 0it [00:00, ?it/s]"
      ]
     },
     "metadata": {},
     "output_type": "display_data"
    },
    {
     "data": {
      "application/vnd.jupyter.widget-view+json": {
       "model_id": "83fab1cb2c5a4a9eb6955fe6471ed931",
       "version_major": 2,
       "version_minor": 0
      },
      "text/plain": [
       "Validation: 0it [00:00, ?it/s]"
      ]
     },
     "metadata": {},
     "output_type": "display_data"
    },
    {
     "data": {
      "application/vnd.jupyter.widget-view+json": {
       "model_id": "14bd8defe35c49de931547545ddca01c",
       "version_major": 2,
       "version_minor": 0
      },
      "text/plain": [
       "Validation: 0it [00:00, ?it/s]"
      ]
     },
     "metadata": {},
     "output_type": "display_data"
    },
    {
     "data": {
      "application/vnd.jupyter.widget-view+json": {
       "model_id": "0fe2792ffd9045599b35a1e73039273d",
       "version_major": 2,
       "version_minor": 0
      },
      "text/plain": [
       "Validation: 0it [00:00, ?it/s]"
      ]
     },
     "metadata": {},
     "output_type": "display_data"
    },
    {
     "data": {
      "application/vnd.jupyter.widget-view+json": {
       "model_id": "94354a775dbd4d3194b19ffe272bf890",
       "version_major": 2,
       "version_minor": 0
      },
      "text/plain": [
       "Validation: 0it [00:00, ?it/s]"
      ]
     },
     "metadata": {},
     "output_type": "display_data"
    },
    {
     "data": {
      "application/vnd.jupyter.widget-view+json": {
       "model_id": "904d2e9469c04f6c8db52cb849c9a74e",
       "version_major": 2,
       "version_minor": 0
      },
      "text/plain": [
       "Validation: 0it [00:00, ?it/s]"
      ]
     },
     "metadata": {},
     "output_type": "display_data"
    },
    {
     "data": {
      "application/vnd.jupyter.widget-view+json": {
       "model_id": "88addade0c504ba39c1c13bc12c6251c",
       "version_major": 2,
       "version_minor": 0
      },
      "text/plain": [
       "Validation: 0it [00:00, ?it/s]"
      ]
     },
     "metadata": {},
     "output_type": "display_data"
    },
    {
     "data": {
      "application/vnd.jupyter.widget-view+json": {
       "model_id": "8f1f5c791e344736b5a8c86ebcd25789",
       "version_major": 2,
       "version_minor": 0
      },
      "text/plain": [
       "Validation: 0it [00:00, ?it/s]"
      ]
     },
     "metadata": {},
     "output_type": "display_data"
    },
    {
     "data": {
      "application/vnd.jupyter.widget-view+json": {
       "model_id": "271c0adcac264937a0ff2a11e6a0f198",
       "version_major": 2,
       "version_minor": 0
      },
      "text/plain": [
       "Validation: 0it [00:00, ?it/s]"
      ]
     },
     "metadata": {},
     "output_type": "display_data"
    },
    {
     "data": {
      "application/vnd.jupyter.widget-view+json": {
       "model_id": "2d267d054a254e6fb8b78adf68cf9562",
       "version_major": 2,
       "version_minor": 0
      },
      "text/plain": [
       "Validation: 0it [00:00, ?it/s]"
      ]
     },
     "metadata": {},
     "output_type": "display_data"
    },
    {
     "data": {
      "application/vnd.jupyter.widget-view+json": {
       "model_id": "51d667bd99c44233b7b6a055811f6cd7",
       "version_major": 2,
       "version_minor": 0
      },
      "text/plain": [
       "Validation: 0it [00:00, ?it/s]"
      ]
     },
     "metadata": {},
     "output_type": "display_data"
    },
    {
     "data": {
      "application/vnd.jupyter.widget-view+json": {
       "model_id": "2c05653f261b44d0aa1870002872d602",
       "version_major": 2,
       "version_minor": 0
      },
      "text/plain": [
       "Validation: 0it [00:00, ?it/s]"
      ]
     },
     "metadata": {},
     "output_type": "display_data"
    },
    {
     "data": {
      "application/vnd.jupyter.widget-view+json": {
       "model_id": "3b0a949eb62b4447840396115ad21b6b",
       "version_major": 2,
       "version_minor": 0
      },
      "text/plain": [
       "Validation: 0it [00:00, ?it/s]"
      ]
     },
     "metadata": {},
     "output_type": "display_data"
    },
    {
     "data": {
      "application/vnd.jupyter.widget-view+json": {
       "model_id": "00c08a4f939747ffaca09e16ef216d4a",
       "version_major": 2,
       "version_minor": 0
      },
      "text/plain": [
       "Validation: 0it [00:00, ?it/s]"
      ]
     },
     "metadata": {},
     "output_type": "display_data"
    },
    {
     "data": {
      "application/vnd.jupyter.widget-view+json": {
       "model_id": "6e671c858bd948b6be3531f6d2f054b5",
       "version_major": 2,
       "version_minor": 0
      },
      "text/plain": [
       "Validation: 0it [00:00, ?it/s]"
      ]
     },
     "metadata": {},
     "output_type": "display_data"
    },
    {
     "data": {
      "application/vnd.jupyter.widget-view+json": {
       "model_id": "5c0abf541aec4a9b81b8a9efc3ab9ec6",
       "version_major": 2,
       "version_minor": 0
      },
      "text/plain": [
       "Validation: 0it [00:00, ?it/s]"
      ]
     },
     "metadata": {},
     "output_type": "display_data"
    },
    {
     "data": {
      "application/vnd.jupyter.widget-view+json": {
       "model_id": "4aca86179297408a83e336f5b9d9bc81",
       "version_major": 2,
       "version_minor": 0
      },
      "text/plain": [
       "Validation: 0it [00:00, ?it/s]"
      ]
     },
     "metadata": {},
     "output_type": "display_data"
    },
    {
     "data": {
      "application/vnd.jupyter.widget-view+json": {
       "model_id": "a72535fffb7d484ea1d380dab38954cd",
       "version_major": 2,
       "version_minor": 0
      },
      "text/plain": [
       "Validation: 0it [00:00, ?it/s]"
      ]
     },
     "metadata": {},
     "output_type": "display_data"
    },
    {
     "data": {
      "application/vnd.jupyter.widget-view+json": {
       "model_id": "2893811263c241b097a273c68d9ababd",
       "version_major": 2,
       "version_minor": 0
      },
      "text/plain": [
       "Validation: 0it [00:00, ?it/s]"
      ]
     },
     "metadata": {},
     "output_type": "display_data"
    },
    {
     "data": {
      "application/vnd.jupyter.widget-view+json": {
       "model_id": "d9247053f67d4b1fad15e97ba112c310",
       "version_major": 2,
       "version_minor": 0
      },
      "text/plain": [
       "Validation: 0it [00:00, ?it/s]"
      ]
     },
     "metadata": {},
     "output_type": "display_data"
    },
    {
     "data": {
      "application/vnd.jupyter.widget-view+json": {
       "model_id": "54ffeb1e7f26406283df1679e31cf090",
       "version_major": 2,
       "version_minor": 0
      },
      "text/plain": [
       "Validation: 0it [00:00, ?it/s]"
      ]
     },
     "metadata": {},
     "output_type": "display_data"
    },
    {
     "data": {
      "application/vnd.jupyter.widget-view+json": {
       "model_id": "97adc602e4e44b4aaf0797cb8e1a97d8",
       "version_major": 2,
       "version_minor": 0
      },
      "text/plain": [
       "Validation: 0it [00:00, ?it/s]"
      ]
     },
     "metadata": {},
     "output_type": "display_data"
    },
    {
     "data": {
      "application/vnd.jupyter.widget-view+json": {
       "model_id": "2cad06f35b51415eb918372e883279f4",
       "version_major": 2,
       "version_minor": 0
      },
      "text/plain": [
       "Validation: 0it [00:00, ?it/s]"
      ]
     },
     "metadata": {},
     "output_type": "display_data"
    },
    {
     "data": {
      "application/vnd.jupyter.widget-view+json": {
       "model_id": "80c9d3db94414781a5fe5747a112368e",
       "version_major": 2,
       "version_minor": 0
      },
      "text/plain": [
       "Validation: 0it [00:00, ?it/s]"
      ]
     },
     "metadata": {},
     "output_type": "display_data"
    },
    {
     "data": {
      "application/vnd.jupyter.widget-view+json": {
       "model_id": "6c1286cf699843fdbf8adcec812dcddc",
       "version_major": 2,
       "version_minor": 0
      },
      "text/plain": [
       "Validation: 0it [00:00, ?it/s]"
      ]
     },
     "metadata": {},
     "output_type": "display_data"
    },
    {
     "data": {
      "application/vnd.jupyter.widget-view+json": {
       "model_id": "89ed6724062e4b878a05693318c62428",
       "version_major": 2,
       "version_minor": 0
      },
      "text/plain": [
       "Validation: 0it [00:00, ?it/s]"
      ]
     },
     "metadata": {},
     "output_type": "display_data"
    },
    {
     "data": {
      "application/vnd.jupyter.widget-view+json": {
       "model_id": "e512c08657cb4361b8aaf0ace7e1f6ec",
       "version_major": 2,
       "version_minor": 0
      },
      "text/plain": [
       "Validation: 0it [00:00, ?it/s]"
      ]
     },
     "metadata": {},
     "output_type": "display_data"
    },
    {
     "data": {
      "application/vnd.jupyter.widget-view+json": {
       "model_id": "7d12b48716bc40b797beda5a8cca99f8",
       "version_major": 2,
       "version_minor": 0
      },
      "text/plain": [
       "Validation: 0it [00:00, ?it/s]"
      ]
     },
     "metadata": {},
     "output_type": "display_data"
    },
    {
     "data": {
      "application/vnd.jupyter.widget-view+json": {
       "model_id": "f7565b9d0ca1437383f283661042fa08",
       "version_major": 2,
       "version_minor": 0
      },
      "text/plain": [
       "Validation: 0it [00:00, ?it/s]"
      ]
     },
     "metadata": {},
     "output_type": "display_data"
    },
    {
     "data": {
      "application/vnd.jupyter.widget-view+json": {
       "model_id": "d4b0a4b15406410da362735b5fd710ad",
       "version_major": 2,
       "version_minor": 0
      },
      "text/plain": [
       "Validation: 0it [00:00, ?it/s]"
      ]
     },
     "metadata": {},
     "output_type": "display_data"
    },
    {
     "data": {
      "application/vnd.jupyter.widget-view+json": {
       "model_id": "9d9aba03e5244a5db865b7180074bf64",
       "version_major": 2,
       "version_minor": 0
      },
      "text/plain": [
       "Validation: 0it [00:00, ?it/s]"
      ]
     },
     "metadata": {},
     "output_type": "display_data"
    },
    {
     "data": {
      "application/vnd.jupyter.widget-view+json": {
       "model_id": "beeed439769e4b13b550e70332536411",
       "version_major": 2,
       "version_minor": 0
      },
      "text/plain": [
       "Validation: 0it [00:00, ?it/s]"
      ]
     },
     "metadata": {},
     "output_type": "display_data"
    },
    {
     "data": {
      "application/vnd.jupyter.widget-view+json": {
       "model_id": "17155a6a950a4c9f8800c8b4ce5c18c6",
       "version_major": 2,
       "version_minor": 0
      },
      "text/plain": [
       "Validation: 0it [00:00, ?it/s]"
      ]
     },
     "metadata": {},
     "output_type": "display_data"
    },
    {
     "data": {
      "application/vnd.jupyter.widget-view+json": {
       "model_id": "2c451eef971f4c7181f0ae3df2f8c200",
       "version_major": 2,
       "version_minor": 0
      },
      "text/plain": [
       "Validation: 0it [00:00, ?it/s]"
      ]
     },
     "metadata": {},
     "output_type": "display_data"
    },
    {
     "data": {
      "application/vnd.jupyter.widget-view+json": {
       "model_id": "4f7713c4a88e46d990faa171cba12a1b",
       "version_major": 2,
       "version_minor": 0
      },
      "text/plain": [
       "Validation: 0it [00:00, ?it/s]"
      ]
     },
     "metadata": {},
     "output_type": "display_data"
    },
    {
     "data": {
      "application/vnd.jupyter.widget-view+json": {
       "model_id": "f31f6530f1a044c4b9b011908228faa4",
       "version_major": 2,
       "version_minor": 0
      },
      "text/plain": [
       "Validation: 0it [00:00, ?it/s]"
      ]
     },
     "metadata": {},
     "output_type": "display_data"
    },
    {
     "data": {
      "application/vnd.jupyter.widget-view+json": {
       "model_id": "b96a1d1d16bf4a1dad5b121207fb62d1",
       "version_major": 2,
       "version_minor": 0
      },
      "text/plain": [
       "Validation: 0it [00:00, ?it/s]"
      ]
     },
     "metadata": {},
     "output_type": "display_data"
    },
    {
     "data": {
      "application/vnd.jupyter.widget-view+json": {
       "model_id": "95617b1dcb414a91bc0f419d19a64ef1",
       "version_major": 2,
       "version_minor": 0
      },
      "text/plain": [
       "Validation: 0it [00:00, ?it/s]"
      ]
     },
     "metadata": {},
     "output_type": "display_data"
    },
    {
     "data": {
      "application/vnd.jupyter.widget-view+json": {
       "model_id": "cc54eadc6575483a9769d470cb18bb6a",
       "version_major": 2,
       "version_minor": 0
      },
      "text/plain": [
       "Validation: 0it [00:00, ?it/s]"
      ]
     },
     "metadata": {},
     "output_type": "display_data"
    },
    {
     "data": {
      "application/vnd.jupyter.widget-view+json": {
       "model_id": "a1016b5b84244208906ee8a6a71cda92",
       "version_major": 2,
       "version_minor": 0
      },
      "text/plain": [
       "Validation: 0it [00:00, ?it/s]"
      ]
     },
     "metadata": {},
     "output_type": "display_data"
    },
    {
     "data": {
      "application/vnd.jupyter.widget-view+json": {
       "model_id": "0b97d6e600504a54a18d2fdc7b029bc0",
       "version_major": 2,
       "version_minor": 0
      },
      "text/plain": [
       "Validation: 0it [00:00, ?it/s]"
      ]
     },
     "metadata": {},
     "output_type": "display_data"
    },
    {
     "data": {
      "application/vnd.jupyter.widget-view+json": {
       "model_id": "9c55fc80561c4dc299009a8769748637",
       "version_major": 2,
       "version_minor": 0
      },
      "text/plain": [
       "Validation: 0it [00:00, ?it/s]"
      ]
     },
     "metadata": {},
     "output_type": "display_data"
    },
    {
     "data": {
      "application/vnd.jupyter.widget-view+json": {
       "model_id": "4fb33f7a06974a978955fb2aaa6b2303",
       "version_major": 2,
       "version_minor": 0
      },
      "text/plain": [
       "Validation: 0it [00:00, ?it/s]"
      ]
     },
     "metadata": {},
     "output_type": "display_data"
    },
    {
     "data": {
      "application/vnd.jupyter.widget-view+json": {
       "model_id": "55c74a70a1674d218449ff5a1503a585",
       "version_major": 2,
       "version_minor": 0
      },
      "text/plain": [
       "Validation: 0it [00:00, ?it/s]"
      ]
     },
     "metadata": {},
     "output_type": "display_data"
    },
    {
     "data": {
      "application/vnd.jupyter.widget-view+json": {
       "model_id": "cd6c82e9c28f4085b7ad4893bedaaf8c",
       "version_major": 2,
       "version_minor": 0
      },
      "text/plain": [
       "Validation: 0it [00:00, ?it/s]"
      ]
     },
     "metadata": {},
     "output_type": "display_data"
    },
    {
     "data": {
      "application/vnd.jupyter.widget-view+json": {
       "model_id": "8ea4f0735f9348a2ae1199e6c85f440b",
       "version_major": 2,
       "version_minor": 0
      },
      "text/plain": [
       "Validation: 0it [00:00, ?it/s]"
      ]
     },
     "metadata": {},
     "output_type": "display_data"
    },
    {
     "data": {
      "application/vnd.jupyter.widget-view+json": {
       "model_id": "3c1815624b804c5ba4f96d6a7ccfb319",
       "version_major": 2,
       "version_minor": 0
      },
      "text/plain": [
       "Validation: 0it [00:00, ?it/s]"
      ]
     },
     "metadata": {},
     "output_type": "display_data"
    },
    {
     "name": "stderr",
     "output_type": "stream",
     "text": [
      "`Trainer.fit` stopped: `max_epochs=50` reached.\n"
     ]
    }
   ],
   "source": [
    "\"\"\"Train the model.\"\"\"\n",
    "import mlflow\n",
    "from pytorch_lightning import Trainer\n",
    "from pytorch_lightning.callbacks import EarlyStopping\n",
    "from torch.utils.data import random_split\n",
    "from pytorch_lightning.loggers import MLFlowLogger\n",
    "from pytorch_lightning.callbacks import ModelCheckpoint\n",
    "from torch.utils.data import DataLoader\n",
    "import json\n",
    "\n",
    "torch.set_float32_matmul_precision('medium')\n",
    "\n",
    "# mlf_logger = MLFlowLogger(experiment_name=\"lightning_logs\")#, tracking_uri=\"/home/mnsosa/CHB-MIT_Seizure_Prediction/mlruns\")\n",
    "\n",
    "# Define los parámetros de tu experimento\n",
    "params = {\n",
    "    \"batch_size\": 64,\n",
    "    \"lr\": 0.001,\n",
    "    \"epochs\": 50,\n",
    "}\n",
    "# Carga los datos\n",
    "folder_path = \"data/windows_per_csv\"\n",
    "dataset = CustomDataset(folder_path)\n",
    "\n",
    "# Divide los datos\n",
    "train_len = int(len(dataset) * 0.7)\n",
    "val_len = (len(dataset) - train_len) // 2\n",
    "test_len = len(dataset) - train_len - val_len\n",
    "train_data, val_data, test_data = random_split(dataset, [train_len, val_len, test_len])\n",
    "\n",
    "# Crea la instancia del modelo\n",
    "model = MLP(train_data=train_data, val_data=val_data, test_data=test_data)\n",
    "\n",
    "# Callback para que no se estanque el entrenamiento\n",
    "early_stop_callback = EarlyStopping(\n",
    "    monitor=\"val_loss\",\n",
    "    min_delta=0.00,\n",
    "    patience=20,\n",
    "    verbose=True,\n",
    "    mode=\"min\",\n",
    ")\n",
    "\n",
    "checkpoint_callback = ModelCheckpoint(\n",
    "    monitor='val_loss',\n",
    "    mode='min',\n",
    "    filename='best_model-{epoch:02d}-{val_loss:.2f}',\n",
    "    save_top_k=1,\n",
    "    save_weights_only=True,\n",
    ")\n",
    "\n",
    "\n",
    "trainer = Trainer(\n",
    "    max_epochs=params[\"epochs\"],\n",
    "    # callbacks=[early_stop_callback],\n",
    "    devices=1,\n",
    "    # logger=mlf_logger,\n",
    "    log_every_n_steps=1,\n",
    "    enable_checkpointing=True,\n",
    "    check_val_every_n_epoch=1,\n",
    "    benchmark=True,\n",
    "    accelerator=\"gpu\",\n",
    "    enable_progress_bar=True,\n",
    "    enable_model_summary=True,\n",
    ")\n",
    "\n",
    "\n",
    "# Entrena el modelo\n",
    "trainer.fit(\n",
    "    model,\n",
    "    train_dataloaders=model.train_dataloader(),\n",
    "    val_dataloaders=model.val_dataloader(),\n",
    ")"
   ]
  },
  {
   "cell_type": "code",
   "execution_count": 38,
   "metadata": {},
   "outputs": [
    {
     "name": "stderr",
     "output_type": "stream",
     "text": [
      "LOCAL_RANK: 0 - CUDA_VISIBLE_DEVICES: [1]\n"
     ]
    },
    {
     "data": {
      "application/vnd.jupyter.widget-view+json": {
       "model_id": "c74aef495e2548248c1c43a1ac0cadda",
       "version_major": 2,
       "version_minor": 0
      },
      "text/plain": [
       "Testing: 0it [00:00, ?it/s]"
      ]
     },
     "metadata": {},
     "output_type": "display_data"
    },
    {
     "name": "stdout",
     "output_type": "stream",
     "text": [
      "────────────────────────────────────────────────────────────────────────────────────────────────────────────────────────\n",
      "Runningstage.testing metric      DataLoader 0\n",
      "────────────────────────────────────────────────────────────────────────────────────────────────────────────────────────\n",
      "     test_acc_epoch         0.4676409065723419\n",
      "      test_f1_epoch         0.28222620487213135\n",
      "        test_loss            87.87905883789062\n",
      "  test_precision_epoch      0.28250351548194885\n",
      "    test_recall_epoch       0.28241658210754395\n",
      "────────────────────────────────────────────────────────────────────────────────────────────────────────────────────────\n"
     ]
    },
    {
     "data": {
      "text/plain": [
       "[{'test_loss': 87.87905883789062,\n",
       "  'test_acc_epoch': 0.4676409065723419,\n",
       "  'test_f1_epoch': 0.28222620487213135,\n",
       "  'test_precision_epoch': 0.28250351548194885,\n",
       "  'test_recall_epoch': 0.28241658210754395}]"
      ]
     },
     "execution_count": 38,
     "metadata": {},
     "output_type": "execute_result"
    }
   ],
   "source": [
    "trainer.test(model, dataloaders=model.test_dataloader())"
   ]
  },
  {
   "cell_type": "code",
   "execution_count": 45,
   "metadata": {},
   "outputs": [],
   "source": [
    "class CNN1D(MLP):\n",
    "    def __init__(self, train_data: Any, val_data: Any, test_data: Any, n_workers: int = 8) -> None:\n",
    "        \"\"\"\n",
    "        Initialize the CNN1D.\n",
    "\n",
    "        :return: None\n",
    "        \"\"\"\n",
    "        super().__init__(train_data, val_data, test_data, n_workers)\n",
    "\n",
    "        self.train_data = train_data\n",
    "        self.val_data = val_data\n",
    "        self.test_data = test_data\n",
    "        self.n_workers = n_workers\n",
    "\n",
    "        self.network = nn.Sequential(\n",
    "            nn.Conv1d(\n",
    "                in_channels=22, \n",
    "                out_channels=32, \n",
    "                kernel_size=256, \n",
    "                stride=256, \n",
    "                padding=1\n",
    "            ),\n",
    "            nn.Flatten(),\n",
    "            nn.Linear(60*32, 64),\n",
    "            nn.ReLU(),\n",
    "            nn.Linear(64, 32),\n",
    "            nn.ReLU(),\n",
    "            nn.Linear(32, 4)\n",
    "        )\n",
    "\n",
    "        self.train_accuracy = Accuracy(compute_on_step=False, num_classes=4, task=\"multiclass\")\n",
    "        self.val_accuracy = Accuracy(compute_on_step=False, num_classes=4, task=\"multiclass\")\n",
    "        self.test_accuracy = Accuracy(compute_on_step=False, num_classes=4, task=\"multiclass\")\n",
    "\n",
    "        self.val_f1 = F1Score(num_classes=4, average='macro', task=\"multiclass\")\n",
    "        self.test_f1 = F1Score(num_classes=4, average='macro', task=\"multiclass\")\n",
    "\n",
    "        self.val_precision = Precision(num_classes=4, average='macro', task=\"multiclass\")\n",
    "        self.test_precision = Precision(num_classes=4, average='macro', task=\"multiclass\")\n",
    "\n",
    "        self.val_recall = Recall(num_classes=4, average='macro', task=\"multiclass\")\n",
    "        self.test_recall = Recall(num_classes=4, average='macro', task=\"multiclass\")\n",
    "        \n",
    "        # log hyperparameters\n",
    "        self.save_hyperparameters()"
   ]
  },
  {
   "cell_type": "code",
   "execution_count": 46,
   "metadata": {},
   "outputs": [
    {
     "name": "stderr",
     "output_type": "stream",
     "text": [
      "GPU available: True (cuda), used: True\n",
      "TPU available: False, using: 0 TPU cores\n",
      "IPU available: False, using: 0 IPUs\n",
      "HPU available: False, using: 0 HPUs\n",
      "LOCAL_RANK: 0 - CUDA_VISIBLE_DEVICES: [1]\n",
      "\n",
      "  | Name           | Type                | Params\n",
      "-------------------------------------------------------\n",
      "0 | network        | Sequential          | 305 K \n",
      "1 | train_accuracy | MulticlassAccuracy  | 0     \n",
      "2 | val_accuracy   | MulticlassAccuracy  | 0     \n",
      "3 | test_accuracy  | MulticlassAccuracy  | 0     \n",
      "4 | val_f1         | MulticlassF1Score   | 0     \n",
      "5 | test_f1        | MulticlassF1Score   | 0     \n",
      "6 | val_precision  | MulticlassPrecision | 0     \n",
      "7 | test_precision | MulticlassPrecision | 0     \n",
      "8 | val_recall     | MulticlassRecall    | 0     \n",
      "9 | test_recall    | MulticlassRecall    | 0     \n",
      "-------------------------------------------------------\n",
      "305 K     Trainable params\n",
      "0         Non-trainable params\n",
      "305 K     Total params\n",
      "1.222     Total estimated model params size (MB)\n"
     ]
    },
    {
     "data": {
      "application/vnd.jupyter.widget-view+json": {
       "model_id": "f43f97b9cf6e490abccce7b930d25fe4",
       "version_major": 2,
       "version_minor": 0
      },
      "text/plain": [
       "Sanity Checking: 0it [00:00, ?it/s]"
      ]
     },
     "metadata": {},
     "output_type": "display_data"
    },
    {
     "data": {
      "application/vnd.jupyter.widget-view+json": {
       "model_id": "019d188b669342feab9372c968f10cce",
       "version_major": 2,
       "version_minor": 0
      },
      "text/plain": [
       "Training: 0it [00:00, ?it/s]"
      ]
     },
     "metadata": {},
     "output_type": "display_data"
    },
    {
     "data": {
      "application/vnd.jupyter.widget-view+json": {
       "model_id": "e03e8c05548a45a889221c3c79adbe8b",
       "version_major": 2,
       "version_minor": 0
      },
      "text/plain": [
       "Validation: 0it [00:00, ?it/s]"
      ]
     },
     "metadata": {},
     "output_type": "display_data"
    },
    {
     "data": {
      "application/vnd.jupyter.widget-view+json": {
       "model_id": "084da3ec4fb548728967e517d7990a24",
       "version_major": 2,
       "version_minor": 0
      },
      "text/plain": [
       "Validation: 0it [00:00, ?it/s]"
      ]
     },
     "metadata": {},
     "output_type": "display_data"
    },
    {
     "data": {
      "application/vnd.jupyter.widget-view+json": {
       "model_id": "18202f84aa9e4eb6ad5ab9e7e14f8082",
       "version_major": 2,
       "version_minor": 0
      },
      "text/plain": [
       "Validation: 0it [00:00, ?it/s]"
      ]
     },
     "metadata": {},
     "output_type": "display_data"
    },
    {
     "data": {
      "application/vnd.jupyter.widget-view+json": {
       "model_id": "b4d89cbd7b7b4edc89804777856628ab",
       "version_major": 2,
       "version_minor": 0
      },
      "text/plain": [
       "Validation: 0it [00:00, ?it/s]"
      ]
     },
     "metadata": {},
     "output_type": "display_data"
    },
    {
     "data": {
      "application/vnd.jupyter.widget-view+json": {
       "model_id": "c7eb08953eab40a6af68cd06018e5c7c",
       "version_major": 2,
       "version_minor": 0
      },
      "text/plain": [
       "Validation: 0it [00:00, ?it/s]"
      ]
     },
     "metadata": {},
     "output_type": "display_data"
    },
    {
     "data": {
      "application/vnd.jupyter.widget-view+json": {
       "model_id": "81eab883f0cb49ada00bc1a4a0ce51b8",
       "version_major": 2,
       "version_minor": 0
      },
      "text/plain": [
       "Validation: 0it [00:00, ?it/s]"
      ]
     },
     "metadata": {},
     "output_type": "display_data"
    },
    {
     "data": {
      "application/vnd.jupyter.widget-view+json": {
       "model_id": "9f57ffa092244987b6af3a4e2a5f216b",
       "version_major": 2,
       "version_minor": 0
      },
      "text/plain": [
       "Validation: 0it [00:00, ?it/s]"
      ]
     },
     "metadata": {},
     "output_type": "display_data"
    },
    {
     "data": {
      "application/vnd.jupyter.widget-view+json": {
       "model_id": "0b0f99afb6c04b1ab4d53583b6163b86",
       "version_major": 2,
       "version_minor": 0
      },
      "text/plain": [
       "Validation: 0it [00:00, ?it/s]"
      ]
     },
     "metadata": {},
     "output_type": "display_data"
    },
    {
     "data": {
      "application/vnd.jupyter.widget-view+json": {
       "model_id": "835cdec1988e4481a1b775f89620adcb",
       "version_major": 2,
       "version_minor": 0
      },
      "text/plain": [
       "Validation: 0it [00:00, ?it/s]"
      ]
     },
     "metadata": {},
     "output_type": "display_data"
    },
    {
     "data": {
      "application/vnd.jupyter.widget-view+json": {
       "model_id": "93f98eba300d43fd9c27e954a9024f2d",
       "version_major": 2,
       "version_minor": 0
      },
      "text/plain": [
       "Validation: 0it [00:00, ?it/s]"
      ]
     },
     "metadata": {},
     "output_type": "display_data"
    },
    {
     "data": {
      "application/vnd.jupyter.widget-view+json": {
       "model_id": "b5885cc9c0af4cdcb8f0461b4308cecd",
       "version_major": 2,
       "version_minor": 0
      },
      "text/plain": [
       "Validation: 0it [00:00, ?it/s]"
      ]
     },
     "metadata": {},
     "output_type": "display_data"
    },
    {
     "data": {
      "application/vnd.jupyter.widget-view+json": {
       "model_id": "6e63d71028044417a9d79fbf11f0ce0f",
       "version_major": 2,
       "version_minor": 0
      },
      "text/plain": [
       "Validation: 0it [00:00, ?it/s]"
      ]
     },
     "metadata": {},
     "output_type": "display_data"
    },
    {
     "data": {
      "application/vnd.jupyter.widget-view+json": {
       "model_id": "a2a46ed56729489f995efce477412caf",
       "version_major": 2,
       "version_minor": 0
      },
      "text/plain": [
       "Validation: 0it [00:00, ?it/s]"
      ]
     },
     "metadata": {},
     "output_type": "display_data"
    },
    {
     "data": {
      "application/vnd.jupyter.widget-view+json": {
       "model_id": "681c280caaec44bb850589e960a82086",
       "version_major": 2,
       "version_minor": 0
      },
      "text/plain": [
       "Validation: 0it [00:00, ?it/s]"
      ]
     },
     "metadata": {},
     "output_type": "display_data"
    },
    {
     "data": {
      "application/vnd.jupyter.widget-view+json": {
       "model_id": "94ebbb759c60438aa41176a1d6982c7c",
       "version_major": 2,
       "version_minor": 0
      },
      "text/plain": [
       "Validation: 0it [00:00, ?it/s]"
      ]
     },
     "metadata": {},
     "output_type": "display_data"
    },
    {
     "data": {
      "application/vnd.jupyter.widget-view+json": {
       "model_id": "c20c4e5dd571412dbc14d959f3549abd",
       "version_major": 2,
       "version_minor": 0
      },
      "text/plain": [
       "Validation: 0it [00:00, ?it/s]"
      ]
     },
     "metadata": {},
     "output_type": "display_data"
    },
    {
     "data": {
      "application/vnd.jupyter.widget-view+json": {
       "model_id": "2ee27e7de7f046d7b974aac7a731443b",
       "version_major": 2,
       "version_minor": 0
      },
      "text/plain": [
       "Validation: 0it [00:00, ?it/s]"
      ]
     },
     "metadata": {},
     "output_type": "display_data"
    },
    {
     "data": {
      "application/vnd.jupyter.widget-view+json": {
       "model_id": "45ccd96b924747fea96a2f7c5f3ee8fb",
       "version_major": 2,
       "version_minor": 0
      },
      "text/plain": [
       "Validation: 0it [00:00, ?it/s]"
      ]
     },
     "metadata": {},
     "output_type": "display_data"
    },
    {
     "data": {
      "application/vnd.jupyter.widget-view+json": {
       "model_id": "e669f57727974765a48992baba8cd1f6",
       "version_major": 2,
       "version_minor": 0
      },
      "text/plain": [
       "Validation: 0it [00:00, ?it/s]"
      ]
     },
     "metadata": {},
     "output_type": "display_data"
    },
    {
     "data": {
      "application/vnd.jupyter.widget-view+json": {
       "model_id": "d5a9f2d5b7f7480293af26a7cb117adb",
       "version_major": 2,
       "version_minor": 0
      },
      "text/plain": [
       "Validation: 0it [00:00, ?it/s]"
      ]
     },
     "metadata": {},
     "output_type": "display_data"
    },
    {
     "data": {
      "application/vnd.jupyter.widget-view+json": {
       "model_id": "1549715e56e94853842f9ea6a32e5b98",
       "version_major": 2,
       "version_minor": 0
      },
      "text/plain": [
       "Validation: 0it [00:00, ?it/s]"
      ]
     },
     "metadata": {},
     "output_type": "display_data"
    },
    {
     "data": {
      "application/vnd.jupyter.widget-view+json": {
       "model_id": "b69077cb94794f40a194673ebfdcbb79",
       "version_major": 2,
       "version_minor": 0
      },
      "text/plain": [
       "Validation: 0it [00:00, ?it/s]"
      ]
     },
     "metadata": {},
     "output_type": "display_data"
    },
    {
     "data": {
      "application/vnd.jupyter.widget-view+json": {
       "model_id": "3eeee8e7e1bb4893961cc94c8d530e50",
       "version_major": 2,
       "version_minor": 0
      },
      "text/plain": [
       "Validation: 0it [00:00, ?it/s]"
      ]
     },
     "metadata": {},
     "output_type": "display_data"
    },
    {
     "data": {
      "application/vnd.jupyter.widget-view+json": {
       "model_id": "6f6f185d26fd4037918f35a7e659a8b4",
       "version_major": 2,
       "version_minor": 0
      },
      "text/plain": [
       "Validation: 0it [00:00, ?it/s]"
      ]
     },
     "metadata": {},
     "output_type": "display_data"
    },
    {
     "data": {
      "application/vnd.jupyter.widget-view+json": {
       "model_id": "cc6aa20f311f47b3b6fdf64ac56d2285",
       "version_major": 2,
       "version_minor": 0
      },
      "text/plain": [
       "Validation: 0it [00:00, ?it/s]"
      ]
     },
     "metadata": {},
     "output_type": "display_data"
    },
    {
     "data": {
      "application/vnd.jupyter.widget-view+json": {
       "model_id": "f8a01456f5284bcca3b464afa565443b",
       "version_major": 2,
       "version_minor": 0
      },
      "text/plain": [
       "Validation: 0it [00:00, ?it/s]"
      ]
     },
     "metadata": {},
     "output_type": "display_data"
    },
    {
     "data": {
      "application/vnd.jupyter.widget-view+json": {
       "model_id": "54d77da6000e44e591a8f48d53933020",
       "version_major": 2,
       "version_minor": 0
      },
      "text/plain": [
       "Validation: 0it [00:00, ?it/s]"
      ]
     },
     "metadata": {},
     "output_type": "display_data"
    },
    {
     "data": {
      "application/vnd.jupyter.widget-view+json": {
       "model_id": "1ba52951fa52430b81009624679c7437",
       "version_major": 2,
       "version_minor": 0
      },
      "text/plain": [
       "Validation: 0it [00:00, ?it/s]"
      ]
     },
     "metadata": {},
     "output_type": "display_data"
    },
    {
     "data": {
      "application/vnd.jupyter.widget-view+json": {
       "model_id": "00113e8537dd4a8f80ca743ff5500103",
       "version_major": 2,
       "version_minor": 0
      },
      "text/plain": [
       "Validation: 0it [00:00, ?it/s]"
      ]
     },
     "metadata": {},
     "output_type": "display_data"
    },
    {
     "data": {
      "application/vnd.jupyter.widget-view+json": {
       "model_id": "0f3f2b5ee3e44e088b59e21bb7c917f6",
       "version_major": 2,
       "version_minor": 0
      },
      "text/plain": [
       "Validation: 0it [00:00, ?it/s]"
      ]
     },
     "metadata": {},
     "output_type": "display_data"
    },
    {
     "data": {
      "application/vnd.jupyter.widget-view+json": {
       "model_id": "2e9376cde6854c5caaf10d6b9a6b60d9",
       "version_major": 2,
       "version_minor": 0
      },
      "text/plain": [
       "Validation: 0it [00:00, ?it/s]"
      ]
     },
     "metadata": {},
     "output_type": "display_data"
    },
    {
     "data": {
      "application/vnd.jupyter.widget-view+json": {
       "model_id": "d46e2944c4a34324b77990a74d8b7471",
       "version_major": 2,
       "version_minor": 0
      },
      "text/plain": [
       "Validation: 0it [00:00, ?it/s]"
      ]
     },
     "metadata": {},
     "output_type": "display_data"
    },
    {
     "data": {
      "application/vnd.jupyter.widget-view+json": {
       "model_id": "a61341411d854818ae63023ed1bca3fa",
       "version_major": 2,
       "version_minor": 0
      },
      "text/plain": [
       "Validation: 0it [00:00, ?it/s]"
      ]
     },
     "metadata": {},
     "output_type": "display_data"
    },
    {
     "data": {
      "application/vnd.jupyter.widget-view+json": {
       "model_id": "74dc788adca740838c4f9e75ffc790b0",
       "version_major": 2,
       "version_minor": 0
      },
      "text/plain": [
       "Validation: 0it [00:00, ?it/s]"
      ]
     },
     "metadata": {},
     "output_type": "display_data"
    },
    {
     "data": {
      "application/vnd.jupyter.widget-view+json": {
       "model_id": "22aee6c65e2f46f0b0c147d21ebd5b1b",
       "version_major": 2,
       "version_minor": 0
      },
      "text/plain": [
       "Validation: 0it [00:00, ?it/s]"
      ]
     },
     "metadata": {},
     "output_type": "display_data"
    },
    {
     "data": {
      "application/vnd.jupyter.widget-view+json": {
       "model_id": "28c51803ef924759b1f84c29b1e9a69d",
       "version_major": 2,
       "version_minor": 0
      },
      "text/plain": [
       "Validation: 0it [00:00, ?it/s]"
      ]
     },
     "metadata": {},
     "output_type": "display_data"
    },
    {
     "data": {
      "application/vnd.jupyter.widget-view+json": {
       "model_id": "71e0456d99814670b4cedbc8466e8951",
       "version_major": 2,
       "version_minor": 0
      },
      "text/plain": [
       "Validation: 0it [00:00, ?it/s]"
      ]
     },
     "metadata": {},
     "output_type": "display_data"
    },
    {
     "data": {
      "application/vnd.jupyter.widget-view+json": {
       "model_id": "40fd1be56a484a9fbf8c02102fc1ec66",
       "version_major": 2,
       "version_minor": 0
      },
      "text/plain": [
       "Validation: 0it [00:00, ?it/s]"
      ]
     },
     "metadata": {},
     "output_type": "display_data"
    },
    {
     "data": {
      "application/vnd.jupyter.widget-view+json": {
       "model_id": "fb82edfd5a534641ac986b1ba7a1d95a",
       "version_major": 2,
       "version_minor": 0
      },
      "text/plain": [
       "Validation: 0it [00:00, ?it/s]"
      ]
     },
     "metadata": {},
     "output_type": "display_data"
    },
    {
     "data": {
      "application/vnd.jupyter.widget-view+json": {
       "model_id": "832d0a15d980413b9ac866711bb1ec94",
       "version_major": 2,
       "version_minor": 0
      },
      "text/plain": [
       "Validation: 0it [00:00, ?it/s]"
      ]
     },
     "metadata": {},
     "output_type": "display_data"
    },
    {
     "data": {
      "application/vnd.jupyter.widget-view+json": {
       "model_id": "c62302aa961e40a0ab3a48e8c07c0e8f",
       "version_major": 2,
       "version_minor": 0
      },
      "text/plain": [
       "Validation: 0it [00:00, ?it/s]"
      ]
     },
     "metadata": {},
     "output_type": "display_data"
    },
    {
     "data": {
      "application/vnd.jupyter.widget-view+json": {
       "model_id": "3d4b2d2130c54ba39ce61ab2de3f60e0",
       "version_major": 2,
       "version_minor": 0
      },
      "text/plain": [
       "Validation: 0it [00:00, ?it/s]"
      ]
     },
     "metadata": {},
     "output_type": "display_data"
    },
    {
     "data": {
      "application/vnd.jupyter.widget-view+json": {
       "model_id": "b906d6934df04419a70bf69161b77c61",
       "version_major": 2,
       "version_minor": 0
      },
      "text/plain": [
       "Validation: 0it [00:00, ?it/s]"
      ]
     },
     "metadata": {},
     "output_type": "display_data"
    },
    {
     "data": {
      "application/vnd.jupyter.widget-view+json": {
       "model_id": "32b789bb7a7d4045954e33f019fad05f",
       "version_major": 2,
       "version_minor": 0
      },
      "text/plain": [
       "Validation: 0it [00:00, ?it/s]"
      ]
     },
     "metadata": {},
     "output_type": "display_data"
    },
    {
     "data": {
      "application/vnd.jupyter.widget-view+json": {
       "model_id": "e30c21a95c954d4cac51d0a048cb7bfb",
       "version_major": 2,
       "version_minor": 0
      },
      "text/plain": [
       "Validation: 0it [00:00, ?it/s]"
      ]
     },
     "metadata": {},
     "output_type": "display_data"
    },
    {
     "data": {
      "application/vnd.jupyter.widget-view+json": {
       "model_id": "00f9c8da7b6748c79689a44f3ca60c58",
       "version_major": 2,
       "version_minor": 0
      },
      "text/plain": [
       "Validation: 0it [00:00, ?it/s]"
      ]
     },
     "metadata": {},
     "output_type": "display_data"
    },
    {
     "data": {
      "application/vnd.jupyter.widget-view+json": {
       "model_id": "178f27734f5a42128201972f94ddfcf5",
       "version_major": 2,
       "version_minor": 0
      },
      "text/plain": [
       "Validation: 0it [00:00, ?it/s]"
      ]
     },
     "metadata": {},
     "output_type": "display_data"
    },
    {
     "data": {
      "application/vnd.jupyter.widget-view+json": {
       "model_id": "b3f0059881b34dddb1646f8364d89f6d",
       "version_major": 2,
       "version_minor": 0
      },
      "text/plain": [
       "Validation: 0it [00:00, ?it/s]"
      ]
     },
     "metadata": {},
     "output_type": "display_data"
    },
    {
     "data": {
      "application/vnd.jupyter.widget-view+json": {
       "model_id": "b9fab47a05f14484842f4fd12dbe061a",
       "version_major": 2,
       "version_minor": 0
      },
      "text/plain": [
       "Validation: 0it [00:00, ?it/s]"
      ]
     },
     "metadata": {},
     "output_type": "display_data"
    },
    {
     "data": {
      "application/vnd.jupyter.widget-view+json": {
       "model_id": "832ab00cbbcd467c8ff1649d04746bb9",
       "version_major": 2,
       "version_minor": 0
      },
      "text/plain": [
       "Validation: 0it [00:00, ?it/s]"
      ]
     },
     "metadata": {},
     "output_type": "display_data"
    },
    {
     "name": "stderr",
     "output_type": "stream",
     "text": [
      "`Trainer.fit` stopped: `max_epochs=50` reached.\n"
     ]
    }
   ],
   "source": [
    "\"\"\"Train the model.\"\"\"\n",
    "import mlflow\n",
    "from pytorch_lightning import Trainer\n",
    "from pytorch_lightning.callbacks import EarlyStopping\n",
    "from torch.utils.data import random_split\n",
    "from pytorch_lightning.loggers import MLFlowLogger\n",
    "from pytorch_lightning.callbacks import ModelCheckpoint\n",
    "from torch.utils.data import DataLoader\n",
    "import json\n",
    "\n",
    "torch.set_float32_matmul_precision('medium')\n",
    "\n",
    "# mlf_logger = MLFlowLogger(experiment_name=\"lightning_logs\")#, tracking_uri=\"/home/mnsosa/CHB-MIT_Seizure_Prediction/mlruns\")\n",
    "\n",
    "# Define los parámetros de tu experimento\n",
    "params = {\n",
    "    \"batch_size\": 64,\n",
    "    \"lr\": 0.001,\n",
    "    \"epochs\": 50,\n",
    "}\n",
    "# Carga los datos\n",
    "folder_path = \"data/windows_per_csv\"\n",
    "dataset = CustomDataset(folder_path)\n",
    "\n",
    "# Divide los datos\n",
    "train_len = int(len(dataset) * 0.7)\n",
    "val_len = (len(dataset) - train_len) // 2\n",
    "test_len = len(dataset) - train_len - val_len\n",
    "train_data, val_data, test_data = random_split(dataset, [train_len, val_len, test_len])\n",
    "\n",
    "# Crea la instancia del modelo\n",
    "model = CNN1D(train_data=train_data, val_data=val_data, test_data=test_data)\n",
    "\n",
    "# Callback para que no se estanque el entrenamiento\n",
    "early_stop_callback = EarlyStopping(\n",
    "    monitor=\"val_loss\",\n",
    "    min_delta=0.00,\n",
    "    patience=20,\n",
    "    verbose=True,\n",
    "    mode=\"min\",\n",
    ")\n",
    "\n",
    "checkpoint_callback = ModelCheckpoint(\n",
    "    monitor='val_loss',\n",
    "    mode='min',\n",
    "    filename='best_model-{epoch:02d}-{val_loss:.2f}',\n",
    "    save_top_k=1,\n",
    "    save_weights_only=True,\n",
    ")\n",
    "\n",
    "\n",
    "trainer = Trainer(\n",
    "    max_epochs=params[\"epochs\"],\n",
    "    # callbacks=[early_stop_callback],\n",
    "    devices=1,\n",
    "    # logger=mlf_logger,\n",
    "    log_every_n_steps=1,\n",
    "    enable_checkpointing=True,\n",
    "    check_val_every_n_epoch=1,\n",
    "    benchmark=True,\n",
    "    accelerator=\"gpu\",\n",
    "    enable_progress_bar=True,\n",
    "    enable_model_summary=True,\n",
    ")\n",
    "\n",
    "\n",
    "# Entrena el modelo\n",
    "trainer.fit(\n",
    "    model,\n",
    "    train_dataloaders=model.train_dataloader(),\n",
    "    val_dataloaders=model.val_dataloader(),\n",
    ")"
   ]
  },
  {
   "cell_type": "code",
   "execution_count": 47,
   "metadata": {},
   "outputs": [
    {
     "name": "stderr",
     "output_type": "stream",
     "text": [
      "LOCAL_RANK: 0 - CUDA_VISIBLE_DEVICES: [1]\n"
     ]
    },
    {
     "data": {
      "application/vnd.jupyter.widget-view+json": {
       "model_id": "46a5583cced14a0d8a76f727d96ee5a8",
       "version_major": 2,
       "version_minor": 0
      },
      "text/plain": [
       "Testing: 0it [00:00, ?it/s]"
      ]
     },
     "metadata": {},
     "output_type": "display_data"
    },
    {
     "name": "stdout",
     "output_type": "stream",
     "text": [
      "────────────────────────────────────────────────────────────────────────────────────────────────────────────────────────\n",
      "Runningstage.testing metric      DataLoader 0\n",
      "────────────────────────────────────────────────────────────────────────────────────────────────────────────────────────\n",
      "     test_acc_epoch         0.5344467759132385\n",
      "      test_f1_epoch          0.227859228849411\n",
      "        test_loss            7.009418964385986\n",
      "  test_precision_epoch      0.22744956612586975\n",
      "    test_recall_epoch       0.2373500019311905\n",
      "────────────────────────────────────────────────────────────────────────────────────────────────────────────────────────\n"
     ]
    },
    {
     "data": {
      "text/plain": [
       "[{'test_loss': 7.009418964385986,\n",
       "  'test_acc_epoch': 0.5344467759132385,\n",
       "  'test_f1_epoch': 0.227859228849411,\n",
       "  'test_precision_epoch': 0.22744956612586975,\n",
       "  'test_recall_epoch': 0.2373500019311905}]"
      ]
     },
     "execution_count": 47,
     "metadata": {},
     "output_type": "execute_result"
    }
   ],
   "source": [
    "trainer.test(model, dataloaders=model.test_dataloader())"
   ]
  },
  {
   "cell_type": "code",
   "execution_count": null,
   "metadata": {},
   "outputs": [],
   "source": [
    "class CNN2D(MLP):\n",
    "    def __init__(self, train_data: Any, val_data: Any, test_data: Any, n_workers: int = 8) -> None:\n",
    "        \"\"\"\n",
    "        Initialize the CNN2D.\n",
    "\n",
    "        :return: None\n",
    "        \"\"\"\n",
    "        super().__init__(train_data, val_data, test_data, n_workers)\n",
    "\n",
    "        self.train_data = train_data\n",
    "        self.val_data = val_data\n",
    "        self.test_data = test_data\n",
    "        self.n_workers = n_workers\n",
    "\n",
    "        self.network = nn.Sequential(\n",
    "            nn.Conv2d(\n",
    "                in_channels=22, \n",
    "                out_channels=32, \n",
    "                kernel_size=(3,3), \n",
    "                stride=1, \n",
    "                padding=1\n",
    "            ),\n",
    "            nn.ReLU(),\n",
    "            nn.MaxPool2d(kernel_size=2, stride=2),\n",
    "            nn.Flatten(),\n",
    "            nn.Linear(?, 64),  # you need to compute the output shape after conv and pooling\n",
    "            nn.ReLU(),\n",
    "            nn.Linear(64, 32),\n",
    "            nn.ReLU(),\n",
    "            nn.Linear(32, 4)\n",
    "        )\n",
    "\n",
    "        self.train_accuracy = Accuracy(compute_on_step=False, num_classes=4, task=\"multiclass\")\n",
    "        self.val_accuracy = Accuracy(compute_on_step=False, num_classes=4, task=\"multiclass\")\n",
    "        self.test_accuracy = Accuracy(compute_on_step=False, num_classes=4, task=\"multiclass\")\n",
    "\n",
    "        self.val_f1 = F1Score(num_classes=4, average='macro', task=\"multiclass\")\n",
    "        self.test_f1 = F1Score(num_classes=4, average='macro', task=\"multiclass\")\n",
    "\n",
    "        self.val_precision = Precision(num_classes=4, average='macro', task=\"multiclass\")\n",
    "        self.test_precision = Precision(num_classes=4, average='macro', task=\"multiclass\")\n",
    "\n",
    "        self.val_recall = Recall(num_classes=4, average='macro', task=\"multiclass\")\n",
    "        self.test_recall = Recall(num_classes=4, average='macro', task=\"multiclass\")\n",
    "        \n",
    "        # log hyperparameters\n",
    "        self.save_hyperparameters()\n"
   ]
  }
 ],
 "metadata": {
  "kernelspec": {
   "display_name": "Python 3 (ipykernel)",
   "language": "python",
   "name": "python3"
  },
  "language_info": {
   "codemirror_mode": {
    "name": "ipython",
    "version": 3
   },
   "file_extension": ".py",
   "mimetype": "text/x-python",
   "name": "python",
   "nbconvert_exporter": "python",
   "pygments_lexer": "ipython3",
   "version": "3.11.3"
  },
  "orig_nbformat": 4
 },
 "nbformat": 4,
 "nbformat_minor": 2
}
