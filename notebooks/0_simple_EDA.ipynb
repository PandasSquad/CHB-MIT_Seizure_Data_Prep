{
 "cells": [
  {
   "attachments": {},
   "cell_type": "markdown",
   "metadata": {},
   "source": [
    "# 📊 Simple EDA: visualize, explore, count, review format, etc."
   ]
  },
  {
   "cell_type": "code",
   "execution_count": 4,
   "metadata": {},
   "outputs": [],
   "source": [
    "import os\n",
    "# move to ../src/data_handler.py\n",
    "os.chdir(\"../src\")\n",
    "import data_handler\n",
    "import pandas as pd\n",
    "from typing import Tuple"
   ]
  },
  {
   "cell_type": "code",
   "execution_count": 5,
   "metadata": {},
   "outputs": [
    {
     "name": "stdout",
     "output_type": "stream",
     "text": [
      "['chb01', 'chb02', 'chb03', 'chb04', 'chb05', 'chb06', 'chb07', 'chb08', 'chb09', 'chb10', 'chb11', 'chb12', 'chb13', 'chb14', 'chb15', 'chb16', 'chb17', 'chb18', 'chb19', 'chb20', 'chb21', 'chb22', 'chb23', 'chb24']\n"
     ]
    }
   ],
   "source": [
    "print(data_handler.get_patients())"
   ]
  },
  {
   "cell_type": "code",
   "execution_count": 6,
   "metadata": {},
   "outputs": [],
   "source": [
    "def filter_with_and_without_seizure(patient: str) -> Tuple[pd.DataFrame, pd.DataFrame]:\n",
    "    \"\"\"Filter the data with and without seizure.\n",
    "\n",
    "    :param patient: the patient code (ex: chb01)\n",
    "    :return: the filtered data\n",
    "    \"\"\"\n",
    "    seizures = data_handler.get_seizure_data(patient)\n",
    "    seizures_with = seizures[seizures[\"number_of_seizures\"] > 0]\n",
    "    seizures_without = seizures[seizures[\"number_of_seizures\"] == 0]\n",
    "\n",
    "    return seizures_with, seizures_without"
   ]
  },
  {
   "cell_type": "code",
   "execution_count": 7,
   "metadata": {},
   "outputs": [
    {
     "name": "stdout",
     "output_type": "stream",
     "text": [
      "Patient: chb01\n",
      "Seizures with: 7\n",
      "Seizures without: 35\n",
      "\n",
      "Patient: chb02\n",
      "Seizures with: 3\n",
      "Seizures without: 33\n",
      "\n",
      "Patient: chb03\n",
      "Seizures with: 7\n",
      "Seizures without: 31\n",
      "\n",
      "Patient: chb04\n",
      "Seizures with: 3\n",
      "Seizures without: 39\n",
      "\n",
      "Patient: chb05\n",
      "Seizures with: 5\n",
      "Seizures without: 34\n",
      "\n",
      "Patient: chb06\n",
      "Seizures with: 7\n",
      "Seizures without: 11\n",
      "\n",
      "Patient: chb07\n",
      "Seizures with: 3\n",
      "Seizures without: 16\n",
      "\n",
      "Patient: chb08\n",
      "Seizures with: 5\n",
      "Seizures without: 15\n",
      "\n",
      "Patient: chb09\n",
      "Seizures with: 3\n",
      "Seizures without: 16\n",
      "\n",
      "Patient: chb10\n",
      "Seizures with: 7\n",
      "Seizures without: 18\n",
      "\n",
      "Patient: chb11\n",
      "Seizures with: 3\n",
      "Seizures without: 32\n",
      "\n",
      "Patient: chb12\n",
      "Seizures with: 13\n",
      "Seizures without: 11\n",
      "\n",
      "Patient: chb13\n",
      "Seizures with: 8\n",
      "Seizures without: 25\n",
      "\n",
      "Patient: chb14\n",
      "Seizures with: 7\n",
      "Seizures without: 19\n",
      "\n",
      "Patient: chb15\n",
      "Seizures with: 14\n",
      "Seizures without: 26\n",
      "\n",
      "Patient: chb16\n",
      "Seizures with: 6\n",
      "Seizures without: 13\n",
      "\n",
      "Patient: chb17\n",
      "Seizures with: 3\n",
      "Seizures without: 18\n",
      "\n",
      "Patient: chb18\n",
      "Seizures with: 6\n",
      "Seizures without: 30\n",
      "\n",
      "Patient: chb19\n",
      "Seizures with: 3\n",
      "Seizures without: 27\n",
      "\n",
      "Patient: chb20\n",
      "Seizures with: 6\n",
      "Seizures without: 23\n",
      "\n",
      "Patient: chb21\n",
      "Seizures with: 4\n",
      "Seizures without: 29\n",
      "\n",
      "Patient: chb22\n",
      "Seizures with: 3\n",
      "Seizures without: 28\n",
      "\n",
      "Patient: chb23\n",
      "Seizures with: 3\n",
      "Seizures without: 6\n",
      "\n",
      "Patient: chb24\n",
      "Seizures with: 12\n",
      "Seizures without: 0\n",
      "\n"
     ]
    }
   ],
   "source": [
    "for patient in data_handler.get_patients():\n",
    "    seizures_with, seizures_without = filter_with_and_without_seizure(patient)\n",
    "    print(f\"Patient: {patient}\")\n",
    "    print(f\"Seizures with: {len(seizures_with)}\")\n",
    "    print(f\"Seizures without: {len(seizures_without)}\")\n",
    "    print()"
   ]
  }
 ],
 "metadata": {
  "kernelspec": {
   "display_name": "seizure-prediction",
   "language": "python",
   "name": "python3"
  },
  "language_info": {
   "codemirror_mode": {
    "name": "ipython",
    "version": 3
   },
   "file_extension": ".py",
   "mimetype": "text/x-python",
   "name": "python",
   "nbconvert_exporter": "python",
   "pygments_lexer": "ipython3",
   "version": "3.9.12"
  },
  "orig_nbformat": 4
 },
 "nbformat": 4,
 "nbformat_minor": 2
}
