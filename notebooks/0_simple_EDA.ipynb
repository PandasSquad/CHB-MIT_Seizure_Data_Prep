{
 "cells": [
  {
   "attachments": {},
   "cell_type": "markdown",
   "metadata": {},
   "source": [
    "# 📊 Simple EDA: visualize, explore, count, review format, etc."
   ]
  },
  {
   "cell_type": "code",
   "execution_count": 4,
   "metadata": {},
   "outputs": [],
   "source": [
    "import os\n",
    "# move to ../src/data_handler.py\n",
    "os.chdir(\"../src\")\n",
    "import data_handler\n",
    "import pandas as pd\n",
    "from typing import Tuple"
   ]
  },
  {
   "cell_type": "code",
   "execution_count": 5,
   "metadata": {},
   "outputs": [
    {
     "name": "stdout",
     "output_type": "stream",
     "text": [
      "['chb01', 'chb02', 'chb03', 'chb04', 'chb05', 'chb06', 'chb07', 'chb08', 'chb09', 'chb10', 'chb11', 'chb12', 'chb13', 'chb14', 'chb15', 'chb16', 'chb17', 'chb18', 'chb19', 'chb20', 'chb21', 'chb22', 'chb23', 'chb24']\n"
     ]
    }
   ],
   "source": [
    "print(data_handler.get_patients())"
   ]
  },
  {
   "cell_type": "code",
   "execution_count": null,
   "metadata": {},
   "outputs": [],
   "source": [
    "def filter_with_and_without_seizure(patient: str) -> Tuple[pd.DataFrame, pd.DataFrame]:\n",
    "    \"\"\"Filter the data with and without seizure.\n",
    "\n",
    "    :param patient: the patient code (ex: chb01)\n",
    "    :return: the filtered data\n",
    "    \"\"\"\n",
    "    seizures = data_handler.get_seizure_data(patient)\n",
    "    seizures_with = seizures[seizures[\"number_of_seizures\"] > 0]\n",
    "    seizures_without = seizures[seizures[\"number_of_seizures\"] == 0]\n",
    "\n",
    "    return seizures_with, seizures_without"
   ]
  },
  {
   "cell_type": "code",
   "execution_count": null,
   "metadata": {},
   "outputs": [],
   "source": [
    "for patient in data_handler.get_patients():\n",
    "    seizures_with, seizures_without = filter_with_and_without_seizure(patient)\n",
    "    print(f\"Patient: {patient}\")\n",
    "    print(f\"Seizures with: {len(seizures_with)}\")\n",
    "    print(f\"Seizures without: {len(seizures_without)}\")\n",
    "    print()"
   ]
  }
 ],
 "metadata": {
  "kernelspec": {
   "display_name": "seizure-prediction",
   "language": "python",
   "name": "python3"
  },
  "language_info": {
   "codemirror_mode": {
    "name": "ipython",
    "version": 3
   },
   "file_extension": ".py",
   "mimetype": "text/x-python",
   "name": "python",
   "nbconvert_exporter": "python",
   "pygments_lexer": "ipython3",
   "version": "3.9.12"
  },
  "orig_nbformat": 4
 },
 "nbformat": 4,
 "nbformat_minor": 2
}
