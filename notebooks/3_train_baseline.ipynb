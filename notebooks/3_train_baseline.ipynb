{
 "cells": [
  {
   "cell_type": "code",
   "execution_count": 18,
   "metadata": {},
   "outputs": [],
   "source": [
    "import os\n",
    "import pandas as pd\n",
    "\n",
    "from tensorflow.keras.models import Sequential\n",
    "from tensorflow.keras.layers import Dense, Dropout, Activation, Flatten, Conv1D, MaxPooling1D"
   ]
  },
  {
   "cell_type": "code",
   "execution_count": 2,
   "metadata": {},
   "outputs": [
    {
     "name": "stdout",
     "output_type": "stream",
     "text": [
      "/device:GPU:0\n"
     ]
    },
    {
     "name": "stderr",
     "output_type": "stream",
     "text": [
      "2023-04-25 23:41:30.181156: W tensorflow/core/common_runtime/pluggable_device/pluggable_device_bfc_allocator.cc:28] Overriding allow_growth setting because force_memory_growth was requested by the device.\n"
     ]
    }
   ],
   "source": [
    "# check if GPU is available\n",
    "import tensorflow as tf\n",
    "print(tf.test.gpu_device_name())"
   ]
  },
  {
   "cell_type": "code",
   "execution_count": 39,
   "metadata": {},
   "outputs": [
    {
     "data": {
      "text/plain": [
       "(24, 23, 24, 24)"
      ]
     },
     "execution_count": 39,
     "metadata": {},
     "output_type": "execute_result"
    }
   ],
   "source": [
    "# Load data\n",
    "data_path = \"../data/windows/\"\n",
    "windows = os.listdir(data_path)\n",
    "\n",
    "ictal_windows = [w for w in windows if w.split(\"_\")[1].startswith(\"ictal\")]\n",
    "interictal_windows = [w for w in windows if w.split(\"_\")[1].startswith(\"interictal\")]\n",
    "preictal_windows = [w for w in windows if w.split(\"_\")[1].startswith(\"preictal\")]\n",
    "prepreictal_windows = [w for w in windows if w.split(\"_\")[1].startswith(\"prepreictal\")]\n",
    "\n",
    "len(ictal_windows), len(interictal_windows), len(preictal_windows), len(prepreictal_windows)"
   ]
  },
  {
   "cell_type": "code",
   "execution_count": 40,
   "metadata": {},
   "outputs": [
    {
     "ename": "",
     "evalue": "",
     "output_type": "error",
     "traceback": [
      "\u001b[1;31mCanceled future for execute_request message before replies were done"
     ]
    },
    {
     "ename": "",
     "evalue": "",
     "output_type": "error",
     "traceback": [
      "\u001b[1;31mThe Kernel crashed while executing code in the the current cell or a previous cell. Please review the code in the cell(s) to identify a possible cause of the failure. Click <a href='https://aka.ms/vscodeJupyterKernelCrash'>here</a> for more info. View Jupyter <a href='command:jupyter.viewOutput'>log</a> for further details."
     ]
    }
   ],
   "source": [
    "ictal_windows = [pd.read_csv(data_path + w).drop(\"edf_file\", axis=1) \n",
    "                 for w in ictal_windows]\n",
    "\n",
    "interictal_windows = [pd.read_csv(data_path + w).drop(\"edf_file\", axis=1)\n",
    "                        for w in interictal_windows]\n",
    "\n",
    "preictal_windows = [pd.read_csv(data_path + w).drop(\"edf_file\", axis=1)\n",
    "                        for w in preictal_windows]\n",
    "\n",
    "prepreictal_windows = [pd.read_csv(data_path + w).drop(\"edf_file\", axis=1)\n",
    "                        for w in prepreictal_windows]"
   ]
  },
  {
   "cell_type": "code",
   "execution_count": null,
   "metadata": {},
   "outputs": [],
   "source": [
    "# split ictal in subwindows of 60*256\n",
    "ictal_windows = [w.iloc[i:i+60*256] for w in ictal_windows for i in range(0, len(w), 60*256)]\n",
    "\n",
    "# split interictal in subwindows of 60*256*5\n",
    "interictal_windows = [w.iloc[i:i+60*256*5] for w in interictal_windows for i in range(0, len(w), 60*256*5)]\n",
    "\n",
    "# split preictal in subwindows of 60*256*5\n",
    "preictal_windows = [w.iloc[i:i+60*256*5] for w in preictal_windows for i in range(0, len(w), 60*256*5)]\n",
    "\n",
    "# split prepreictal in subwindows of 60*256*5\n",
    "prepreictal_windows = [w.iloc[i:i+60*256*5] for w in prepreictal_windows for i in range(0, len(w), 60*256*5)]"
   ]
  },
  {
   "cell_type": "code",
   "execution_count": null,
   "metadata": {},
   "outputs": [],
   "source": [
    "# add target column\n",
    "for w in interictal_windows:\n",
    "    w[\"target\"] = 0\n",
    "    \n",
    "for w in ictal_windows:\n",
    "    w[\"target\"] = 1\n",
    "\n",
    "for w in preictal_windows:\n",
    "    w[\"target\"] = 2\n",
    "\n",
    "for w in prepreictal_windows:\n",
    "    w[\"target\"] = 3"
   ]
  },
  {
   "cell_type": "code",
   "execution_count": null,
   "metadata": {},
   "outputs": [],
   "source": [
    "# concatenate all windows\n",
    "all_windows = pd.concat(ictal_windows + interictal_windows + preictal_windows + prepreictal_windows)\n",
    "\n",
    "# shuffle\n",
    "all_windows = all_windows.sample(frac=1)\n",
    "\n",
    "# split in train and test\n",
    "train = all_windows.iloc[:int(len(all_windows)*0.8)]\n",
    "test = all_windows.iloc[int(len(all_windows)*0.8):]\n",
    "\n",
    "# split in X and y\n",
    "X_train = train.drop(\"target\", axis=1)\n",
    "y_train = train[\"target\"]\n",
    "\n",
    "X_test = test.drop(\"target\", axis=1)\n",
    "y_test = test[\"target\"]\n",
    "\n",
    "# reshape X\n",
    "X_train = X_train.values.reshape(X_train.shape[0], X_train.shape[1], 1)\n",
    "X_test = X_test.values.reshape(X_test.shape[0], X_test.shape[1], 1)"
   ]
  },
  {
   "cell_type": "code",
   "execution_count": null,
   "metadata": {},
   "outputs": [],
   "source": [
    "# build model\n",
    "model = Sequential()\n",
    "\n",
    "model.add(Conv1D(32, 3, activation='relu', input_shape=(X_train.shape[1], 1)))\n",
    "model.add(Conv1D(32, 3, activation='relu'))\n",
    "model.add(MaxPooling1D(2))\n",
    "model.add(Dropout(0.1))\n",
    "model.add(Flatten())\n",
    "model.add(Dense(32, activation='relu'))\n",
    "model.add(Dense(4, activation='softmax'))\n",
    "\n",
    "model.compile(loss='sparse_categorical_crossentropy',\n",
    "                optimizer='adam',\n",
    "                metrics=['accuracy'])"
   ]
  },
  {
   "cell_type": "code",
   "execution_count": null,
   "metadata": {},
   "outputs": [],
   "source": [
    "# make model\n",
    "model = Sequential()\n",
    "\n",
    "model.add(Conv1D(256, 3, input_shape=(X_train.shape[1], X_train.shape[2])))\n",
    "model.add(Activation('relu'))\n",
    "model.add(MaxPooling1D(pool_size=2))\n",
    "model.add(Flatten())\n",
    "model.add(Dense(64))\n",
    "model.add(Dropout(0.1))\n",
    "\n",
    "model.add(Dense(4))\n",
    "model.add(Activation('softmax'))\n",
    "\n",
    "model.compile(loss='binary_crossentropy',\n",
    "                optimizer='adam',\n",
    "                metrics=['accuracy'])"
   ]
  }
 ],
 "metadata": {
  "kernelspec": {
   "display_name": "seizure-prediction",
   "language": "python",
   "name": "python3"
  },
  "language_info": {
   "codemirror_mode": {
    "name": "ipython",
    "version": 3
   },
   "file_extension": ".py",
   "mimetype": "text/x-python",
   "name": "python",
   "nbconvert_exporter": "python",
   "pygments_lexer": "ipython3",
   "version": "3.10.4"
  },
  "orig_nbformat": 4
 },
 "nbformat": 4,
 "nbformat_minor": 2
}
